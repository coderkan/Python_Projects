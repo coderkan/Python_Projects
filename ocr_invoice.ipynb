{
  "nbformat": 4,
  "nbformat_minor": 0,
  "metadata": {
    "colab": {
      "name": "ocr_invoice.ipynb",
      "private_outputs": true,
      "provenance": [],
      "collapsed_sections": [],
      "toc_visible": true,
      "mount_file_id": "1lT2SU5IsyCn1oNuTPNDUx3_D3HWrcOGa",
      "authorship_tag": "ABX9TyPPY1KzZL1b20RRWGJ9zfnG",
      "include_colab_link": true
    },
    "kernelspec": {
      "name": "python3",
      "display_name": "Python 3"
    },
    "language_info": {
      "name": "python"
    },
    "accelerator": "GPU"
  },
  "cells": [
    {
      "cell_type": "markdown",
      "metadata": {
        "id": "view-in-github",
        "colab_type": "text"
      },
      "source": [
        "<a href=\"https://colab.research.google.com/github/esencgr/Python_Scripts_Projects/blob/master/ocr_invoice.ipynb\" target=\"_parent\"><img src=\"https://colab.research.google.com/assets/colab-badge.svg\" alt=\"Open In Colab\"/></a>"
      ]
    },
    {
      "cell_type": "code",
      "metadata": {
        "id": "EyX9jtNYf18I"
      },
      "source": [
        "! pip install easyocr"
      ],
      "execution_count": null,
      "outputs": []
    },
    {
      "cell_type": "code",
      "metadata": {
        "id": "OmRNDTNxgB4a"
      },
      "source": [
        "import PIL\n",
        "import easyocr\n",
        "from PIL import ImageDraw"
      ],
      "execution_count": null,
      "outputs": []
    },
    {
      "cell_type": "code",
      "metadata": {
        "id": "Tv5NPGlVg1Qf"
      },
      "source": [
        "reader = easyocr.Reader([\"en\"])"
      ],
      "execution_count": null,
      "outputs": []
    },
    {
      "cell_type": "code",
      "metadata": {
        "id": "DhsKP8CVhmCR"
      },
      "source": [
        "img = PIL.Image.open(\"/content/drive/MyDrive/images/ocr.png\")\n",
        "img"
      ],
      "execution_count": null,
      "outputs": []
    },
    {
      "cell_type": "code",
      "metadata": {
        "id": "SOX-NmufibVi"
      },
      "source": [
        "bounds = reader.readtext(\"/content/drive/MyDrive/images/ocr.png\")\n",
        "bounds"
      ],
      "execution_count": null,
      "outputs": []
    },
    {
      "cell_type": "code",
      "metadata": {
        "id": "NO_HTtsTjK9H"
      },
      "source": [
        "def draw_boxes(image, bounds, color = \"green\", width = 2):\n",
        "    draw = ImageDraw.Draw(image)\n",
        "    for box in bounds:\n",
        "        p0, p1, p2, p3 = box[0]\n",
        "        draw.line([*p0, *p1, *p2, *p3, *p0], fill = color, width = width )\n",
        "    return image\n",
        "\n",
        "draw_boxes(img, bounds)  "
      ],
      "execution_count": null,
      "outputs": []
    },
    {
      "cell_type": "code",
      "metadata": {
        "id": "rWmMlg1tjMFf"
      },
      "source": [
        "def img_to_text(boxes):\n",
        "    text_list = []\n",
        "    for box in boxes:\n",
        "        text_list.append(box[1])\n",
        "\n",
        "    return text_list\n",
        "    \n",
        "img_to_text(bounds)"
      ],
      "execution_count": null,
      "outputs": []
    },
    {
      "cell_type": "code",
      "metadata": {
        "id": "diwcgorJpGbY"
      },
      "source": [
        ""
      ],
      "execution_count": null,
      "outputs": []
    },
    {
      "cell_type": "code",
      "metadata": {
        "id": "cu4i5pDSjMQ3"
      },
      "source": [
        ""
      ],
      "execution_count": null,
      "outputs": []
    }
  ]
}